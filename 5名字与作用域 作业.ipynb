{
 "cells": [
  {
   "cell_type": "code",
   "execution_count": 2,
   "metadata": {},
   "outputs": [],
   "source": [
    "import tensorflow as tf"
   ]
  },
  {
   "cell_type": "code",
   "execution_count": 17,
   "metadata": {},
   "outputs": [],
   "source": [
    "###name_scope作用：\n",
    "#1）name_scope可以为其作用域中的节点的name添加一个或多个前缀，并使用这些前缀作为划分内部与外部op范围的标记\n",
    "#2）name_scope可以嵌套使用，代表不同层级的功能区域的划分。\n",
    "#3)在一个name_scope的作用域中，可以填写name相同的Op，但TensorFlow会自动加后缀\n",
    "#4)可以指定任意多个name_scope，并且可以填写相同name的两个或多个name_scope，\n",
    "#    但TensorFlow会自动给name_scope的name加上后缀\n",
    "#5）name_scope可以嵌套，嵌套之后的name包含上级name_scope的name\n",
    "#6）使用name_scope可以给Op的name加前缀，但不包括tf.get_variable()创建的变量\n",
    "#7）从外部传入的Tensor，并不会在name_scope中加上前缀"
   ]
  },
  {
   "cell_type": "code",
   "execution_count": 16,
   "metadata": {},
   "outputs": [],
   "source": [
    "###variable_scope\n",
    "#1）variable_scope可以与tf.get_variable()等配合使用完成对变量的重复使用。\n",
    "#2）variable_scope包含了name_scope的全部功能，即在variable_scope下也可以给Op与Tensor加上name_scope\n",
    "#3）默认的variable_scope的name等于其对应的name_scope的name\n",
    "#4）创建两个或多个variable_scope时可以填入相同的name，此时相当于创建了一个variable_scope与两个或多个name_scope\n",
    "#5）variable_scope的最佳搭档是tf.get_variable()函数\n",
    "#6）同名的多个变量作用域所处的上下文中的名字作用域不同\n",
    "#7）如果在嵌套的一个变量作用域里使用之前预定义的一个作用域，则会跳过当前变量的作用域，保持预先存在的作用域不变"
   ]
  },
  {
   "cell_type": "code",
   "execution_count": 19,
   "metadata": {},
   "outputs": [],
   "source": [
    "'''\n",
    "with tf.variable_scope('s1') as s1:\n",
    "    tf.get_variable('var', shape=[1,2])\n",
    "    with tf.variable_scope('s2') as s2:\n",
    "        tf.get_variable('var', shape=[1,2])\n",
    "        with tf.variable_scope('s3') as s3:\n",
    "            tf.get_variable('var', shape=[1,2])\n",
    "with tf.variable_scope('s1', reuse=True) as s1:\n",
    "    v1 = tf.get_variable('var')\n",
    "    with tf.variable_scope('s2', reuse=None) as s2:\n",
    "        v2 = tf.get_variable('var')\n",
    "        with tf.variable_scope('s3', reuse=None) as s3:\n",
    "            v3 = tf.get_variable('var')'''"
   ]
  },
  {
   "cell_type": "code",
   "execution_count": null,
   "metadata": {},
   "outputs": [],
   "source": []
  },
  {
   "cell_type": "code",
   "execution_count": null,
   "metadata": {},
   "outputs": [],
   "source": []
  }
 ],
 "metadata": {
  "kernelspec": {
   "display_name": "Python 3",
   "language": "python",
   "name": "python3"
  },
  "language_info": {
   "codemirror_mode": {
    "name": "ipython",
    "version": 3
   },
   "file_extension": ".py",
   "mimetype": "text/x-python",
   "name": "python",
   "nbconvert_exporter": "python",
   "pygments_lexer": "ipython3",
   "version": "3.5.6"
  }
 },
 "nbformat": 4,
 "nbformat_minor": 2
}
