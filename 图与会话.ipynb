{
 "cells": [
  {
   "cell_type": "code",
   "execution_count": 37,
   "metadata": {},
   "outputs": [
    {
     "name": "stdout",
     "output_type": "stream",
     "text": [
      "8\n",
      "8\n"
     ]
    }
   ],
   "source": [
    "#康丽娜-2016011429\n",
    "\n",
    "import tensorflow as tf\n",
    "\n",
    "#图与会话第一题\n",
    "a = tf.add(3,5)\n",
    "#会话1\n",
    "with tf.Session() as sess1:\n",
    "    print(sess1.run(a))\n",
    "#会话2\n",
    "with tf.Session() as sess2:\n",
    "    print(sess2.run(a))"
   ]
  },
  {
   "cell_type": "code",
   "execution_count": 2,
   "metadata": {},
   "outputs": [
    {
     "name": "stdout",
     "output_type": "stream",
     "text": [
      "2\n"
     ]
    }
   ],
   "source": [
    "#图与会话第二题\n",
    "#减法\n",
    "b = tf.subtract(5,3)\n",
    "with tf.Session() as sess3:\n",
    "    print(sess3.run(b))"
   ]
  },
  {
   "cell_type": "code",
   "execution_count": 3,
   "metadata": {},
   "outputs": [
    {
     "name": "stdout",
     "output_type": "stream",
     "text": [
      "15\n"
     ]
    }
   ],
   "source": [
    "#乘法\n",
    "c = tf.multiply(3,5)\n",
    "with tf.Session() as sess4:\n",
    "    print(sess4.run(c))"
   ]
  },
  {
   "cell_type": "code",
   "execution_count": 26,
   "metadata": {
    "scrolled": true
   },
   "outputs": [
    {
     "name": "stdout",
     "output_type": "stream",
     "text": [
      "1.0\n"
     ]
    }
   ],
   "source": [
    "#除法\n",
    "d = tf.divide(3,3)\n",
    "print(d)\n",
    "#除法得出是数值而非张量"
   ]
  },
  {
   "cell_type": "code",
   "execution_count": 30,
   "metadata": {},
   "outputs": [
    {
     "name": "stdout",
     "output_type": "stream",
     "text": [
      "1\n"
     ]
    }
   ],
   "source": [
    "#取模\n",
    "e = tf.mod(3,2)\n",
    "with tf.Session() as sess5:\n",
    "    print(sess5.run(e))"
   ]
  },
  {
   "cell_type": "code",
   "execution_count": 31,
   "metadata": {},
   "outputs": [
    {
     "name": "stdout",
     "output_type": "stream",
     "text": [
      "9\n"
     ]
    }
   ],
   "source": [
    "#幂次方\n",
    "f = tf.pow(3,2)\n",
    "with tf.Session() as sess6:\n",
    "    print(sess6.run(f))"
   ]
  },
  {
   "cell_type": "code",
   "execution_count": 34,
   "metadata": {},
   "outputs": [
    {
     "name": "stdout",
     "output_type": "stream",
     "text": [
      "9\n"
     ]
    }
   ],
   "source": [
    "#平方\n",
    "g = tf.square(3)\n",
    "with tf.Session() as sess7:\n",
    "    print(sess7.run(g))"
   ]
  },
  {
   "cell_type": "code",
   "execution_count": 41,
   "metadata": {},
   "outputs": [
    {
     "name": "stdout",
     "output_type": "stream",
     "text": [
      "3.0\n"
     ]
    }
   ],
   "source": [
    "#开方\n",
    "h = tf.sqrt(9.0)\n",
    "with tf.Session() as sess8:\n",
    "    print(sess8.run(h))\n",
    "#参数必须是一下类型之一：half，float32，float64，complex64，complex128"
   ]
  },
  {
   "cell_type": "code",
   "execution_count": null,
   "metadata": {},
   "outputs": [],
   "source": []
  }
 ],
 "metadata": {
  "kernelspec": {
   "display_name": "Python 3",
   "language": "python",
   "name": "python3"
  },
  "language_info": {
   "codemirror_mode": {
    "name": "ipython",
    "version": 3
   },
   "file_extension": ".py",
   "mimetype": "text/x-python",
   "name": "python",
   "nbconvert_exporter": "python",
   "pygments_lexer": "ipython3",
   "version": "3.5.6"
  }
 },
 "nbformat": 4,
 "nbformat_minor": 2
}
