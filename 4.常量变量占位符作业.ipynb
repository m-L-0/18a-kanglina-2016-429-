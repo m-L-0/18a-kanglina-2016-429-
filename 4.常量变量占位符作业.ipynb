{
 "cells": [
  {
   "cell_type": "code",
   "execution_count": 4,
   "metadata": {},
   "outputs": [],
   "source": [
    "#康丽娜 -- 2016011429\n",
    "import tensorflow as tf\n",
    "import numpy as np"
   ]
  },
  {
   "cell_type": "code",
   "execution_count": 5,
   "metadata": {},
   "outputs": [],
   "source": [
    "def createData(dataNum,w,b,sigma):\n",
    "    train_x = np.arange(dataNum)\n",
    "    train_y = w*train_x+b+np.random.randn()*sigma#正态分布\n",
    "    return train_x,train_y"
   ]
  },
  {
   "cell_type": "code",
   "execution_count": 20,
   "metadata": {},
   "outputs": [],
   "source": [
    "def linerRegression(train_x,train_y,epoch=100000,rate = 0.000001):\n",
    "    train_x = np.array(train_x)\n",
    "    train_y = np.array(train_y)\n",
    "    n = train_x.shape[0]\n",
    "    x = tf.placeholder(\"float\")\n",
    "    y = tf.placeholder(\"float\")\n",
    "    w = tf.Variable(tf.random_normal([1])) # 生成随机权重\n",
    "    b = tf.Variable(tf.random_normal([1]))\n",
    "    pred = tf.add(tf.multiply(x,w),b)\n",
    "    loss = tf.reduce_sum(tf.pow(pred-y,2))\n",
    "    optimizer = tf.train.GradientDescentOptimizer(rate).minimize(loss)\n",
    "    init = tf.initialize_all_variables()\n",
    "    sess = tf.Session()\n",
    "    sess.run(init)\n",
    "    print( 'w  start is ',sess.run(w))\n",
    "    print ('b start is ',sess.run(b))\n",
    "    for index in range(epoch):\n",
    "        #for tx,ty in zip(train_x,train_y):\n",
    "            #sess.run(optimizer,{x:tx,y:ty})\n",
    "        sess.run(optimizer,{x:train_x,y:train_y})\n",
    "        # print 'w is ',sess.run(w)\n",
    "        # print 'b is ',sess.run(b)\n",
    "        # print 'pred is ',sess.run(pred,{x:train_x})\n",
    "        # print 'loss is ',sess.run(loss,{x:train_x,y:train_y})\n",
    "        #print '------------------'\n",
    "    print('loss is ',sess.run(loss,{x:train_x,y:train_y}))\n",
    "    w =  sess.run(w)\n",
    "    b = sess.run(b)\n",
    "    return w,b"
   ]
  },
  {
   "cell_type": "code",
   "execution_count": 21,
   "metadata": {},
   "outputs": [],
   "source": [
    "def predictionTest(test_x,test_y,w,b):\n",
    "    W = tf.placeholder(tf.float32)\n",
    "    B = tf.placeholder(tf.float32)\n",
    "    X = tf.placeholder(tf.float32)\n",
    "    Y = tf.placeholder(tf.float32)\n",
    "    n = test_x.shape[0]\n",
    "    pred = tf.add(tf.multiply(X,W),B)\n",
    "    loss = tf.reduce_mean(tf.pow(pred-Y,2))\n",
    "    sess = tf.Session()\n",
    "    loss = sess.run(loss,{X:test_x,Y:test_y,W:w,B:b})\n",
    "    return loss"
   ]
  },
  {
   "cell_type": "code",
   "execution_count": 23,
   "metadata": {},
   "outputs": [
    {
     "name": "stdout",
     "output_type": "stream",
     "text": [
      "w  start is  [-1.4926671]\n",
      "b start is  [-1.3471416]\n",
      "loss is  4.462257\n",
      "weights [2.0178418]\n",
      "bias [5.89381]\n",
      "0.044561226\n"
     ]
    }
   ],
   "source": [
    "if __name__ == \"__main__\":\n",
    "    train_x,train_y = createData(50,2.0,7.0,1.0)\n",
    "    test_x,test_y = createData(20,2.0,7.0,1.0)\n",
    "    w,b = linerRegression(train_x,train_y)\n",
    "    print('weights',w)\n",
    "    print ('bias',b)\n",
    "    loss = predictionTest(test_x,test_y,w,b)\n",
    "    print (loss)"
   ]
  },
  {
   "cell_type": "code",
   "execution_count": 1,
   "metadata": {},
   "outputs": [
    {
     "data": {
      "text/plain": [
       "'C:\\\\Users\\\\Ethan'"
      ]
     },
     "execution_count": 1,
     "metadata": {},
     "output_type": "execute_result"
    }
   ],
   "source": [
    "pwd"
   ]
  },
  {
   "cell_type": "code",
   "execution_count": null,
   "metadata": {},
   "outputs": [],
   "source": []
  }
 ],
 "metadata": {
  "kernelspec": {
   "display_name": "Python 3",
   "language": "python",
   "name": "python3"
  },
  "language_info": {
   "codemirror_mode": {
    "name": "ipython",
    "version": 3
   },
   "file_extension": ".py",
   "mimetype": "text/x-python",
   "name": "python",
   "nbconvert_exporter": "python",
   "pygments_lexer": "ipython3",
   "version": "3.5.6"
  }
 },
 "nbformat": 4,
 "nbformat_minor": 2
}
